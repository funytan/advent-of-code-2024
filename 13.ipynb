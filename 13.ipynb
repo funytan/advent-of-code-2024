{
 "cells": [
  {
   "cell_type": "code",
   "execution_count": 2,
   "metadata": {},
   "outputs": [],
   "source": [
    "import io, os, sys\n",
    "from sys import stdin, stdout\n",
    " \n",
    "# input = io.BytesIO(os.read(0,os.fstat(0).st_size)).readline\n",
    "# def input(): return stdin.readline().strip()\n",
    "# def read_int_list(): return list(map(int, input().split()))\n",
    "# def read_int_tuple(): return tuple(map(int, input().split()))\n",
    "# def read_int(): return int(input())\n",
    " \n",
    "from itertools import permutations, chain, combinations, product\n",
    "from math import factorial, gcd\n",
    "from collections import Counter, defaultdict, deque\n",
    "from heapq import heappush, heappop, heapify\n",
    "from bisect import bisect_left\n",
    "from functools import lru_cache            \n",
    "import re\n"
   ]
  },
  {
   "cell_type": "markdown",
   "metadata": {},
   "source": [
    "# 1"
   ]
  },
  {
   "cell_type": "code",
   "execution_count": 43,
   "metadata": {},
   "outputs": [],
   "source": [
    "def search(a, b, total):\n",
    "    best_cost = None\n",
    "    for i in range(101):\n",
    "        total_x = total[0]-a[0]*i\n",
    "        total_y = total[1]-a[1]*i\n",
    "        if total_x%b[0]==0 and total_y%b[1]==0 and total_x//b[0]==total_y//b[1]:\n",
    "            j=total_x//b[0]\n",
    "            if j <= 100:\n",
    "                cost = i*3+j\n",
    "                if best_cost is None or best_cost > cost:\n",
    "                    best_cost = cost\n",
    "    return best_cost"
   ]
  },
  {
   "cell_type": "code",
   "execution_count": 45,
   "metadata": {},
   "outputs": [
    {
     "name": "stdout",
     "output_type": "stream",
     "text": [
      "29201\n"
     ]
    }
   ],
   "source": [
    "res=0\n",
    "with open('inputs/input_13', 'r') as f:\n",
    "    lines = f.readlines()\n",
    "    for i in range(0, len(lines), 4):\n",
    "        a = (int(lines[i].split('X')[1].split(', ')[0][1:]), int(lines[i].split('Y')[1].split(', ')[0][1:]))\n",
    "        b = (int(lines[i+1].split('X')[1].split(', ')[0][1:]), int(lines[i+1].split('Y')[1].split(', ')[0][1:]))\n",
    "        total = (int(lines[i+2].split('X')[1].split(', ')[0][1:]), int(lines[i+2].split('Y')[1].split(', ')[0][1:]))\n",
    "        ans = search(a,b,total)\n",
    "        if ans is not None:\n",
    "            res+=ans\n",
    "print(res)"
   ]
  },
  {
   "cell_type": "markdown",
   "metadata": {},
   "source": [
    "# 2"
   ]
  },
  {
   "cell_type": "code",
   "execution_count": 35,
   "metadata": {},
   "outputs": [],
   "source": [
    "import sympy as sp\n",
    "from sympy import symbols, Eq, solve\n",
    "x, y = symbols('x y')\n",
    "\n",
    "def search_2(a, b, total):\n",
    "    eq1= sp.Eq(a[0]*x+b[0]*y, total[0]) \n",
    "    eq2= sp.Eq(a[1]*x+b[1]*y, total[1]) \n",
    "    solution = solve((eq1, eq2), (x, y))\n",
    "    return solution[x], solution[y]\n",
    "\n",
    "def search_2_manual(a, b, total):\n",
    "    det=a[0]*b[1] - a[1]*b[0]\n",
    "    assert det != 0\n",
    "    x = (b[1]*total[0] - b[0]*total[1]) / det\n",
    "    y = (-a[1]*total[0] + a[0]*total[1]) / det\n",
    "    return x, y"
   ]
  },
  {
   "cell_type": "code",
   "execution_count": 38,
   "metadata": {},
   "outputs": [
    {
     "name": "stdout",
     "output_type": "stream",
     "text": [
      "104140871044942.0\n"
     ]
    }
   ],
   "source": [
    "res=0\n",
    "add=10000000000000\n",
    "with open('inputs/input_13', 'r') as f:\n",
    "    lines = f.readlines()\n",
    "    for i in range(0, len(lines), 4):\n",
    "        a = (int(lines[i].split('X')[1].split(', ')[0][1:]), int(lines[i].split('Y')[1].split(', ')[0][1:]))\n",
    "        b = (int(lines[i+1].split('X')[1].split(', ')[0][1:]), int(lines[i+1].split('Y')[1].split(', ')[0][1:]))\n",
    "        total = (int(lines[i+2].split('X')[1].split(', ')[0][1:])+add, int(lines[i+2].split('Y')[1].split(', ')[0][1:])+add)\n",
    "        x, y = search_2_manual(a,b,total)\n",
    "        if int(x)==x and int(y)==y:\n",
    "            res += 3*x+y\n",
    "        \n",
    "print(res)"
   ]
  }
 ],
 "metadata": {
  "kernelspec": {
   "display_name": "Python 3 (ipykernel)",
   "language": "python",
   "name": "python3"
  },
  "language_info": {
   "codemirror_mode": {
    "name": "ipython",
    "version": 3
   },
   "file_extension": ".py",
   "mimetype": "text/x-python",
   "name": "python",
   "nbconvert_exporter": "python",
   "pygments_lexer": "ipython3",
   "version": "3.11.0"
  }
 },
 "nbformat": 4,
 "nbformat_minor": 4
}
